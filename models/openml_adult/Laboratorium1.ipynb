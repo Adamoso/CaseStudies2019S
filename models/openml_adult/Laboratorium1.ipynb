{
 "cells": [
  {
   "cell_type": "code",
   "execution_count": 1,
   "metadata": {},
   "outputs": [],
   "source": [
    "import openml\n",
    "import pandas as pd\n",
    "import numpy as np\n",
    "import json"
   ]
  },
  {
   "cell_type": "code",
   "execution_count": 2,
   "metadata": {},
   "outputs": [],
   "source": [
    "openml.config.apikey = '7b79300852166039a83f129b8898f9f5'\n",
    "np.random.seed(1)"
   ]
  },
  {
   "cell_type": "code",
   "execution_count": 3,
   "metadata": {},
   "outputs": [],
   "source": [
    "dataset = openml.datasets.get_dataset(1590)\n",
    "(X, y, categorical, names) = dataset.get_data(\n",
    "    target=dataset.default_target_attribute,\n",
    "    return_categorical_indicator=True,\n",
    "    return_attribute_names=True,\n",
    ")"
   ]
  },
  {
   "cell_type": "code",
   "execution_count": 4,
   "metadata": {},
   "outputs": [],
   "source": [
    "vals = {}\n",
    "for i, name in enumerate(names):\n",
    "    vals[name] = X[:, i]\n",
    "vals[\"target\"] = y\n",
    "df = pd.DataFrame(vals)"
   ]
  },
  {
   "cell_type": "markdown",
   "metadata": {},
   "source": [
    "# Metadane"
   ]
  },
  {
   "cell_type": "code",
   "execution_count": 44,
   "metadata": {},
   "outputs": [],
   "source": [
    "final_json = {\n",
    "    \"id\": \"openml_adult\",\n",
    "    \"added_by\": \"Siemashko\",\n",
    "    \"date\": \"20-02-2019\",\n",
    "    \"name\": \"adult\",\n",
    "    \"source\": \"openml\",\n",
    "    \"url\": \"https://www.openml.org/d/1590\",\n",
    "    \"number_of_features\": len(names),\n",
    "    \"number_of_instances\": df.shape[0],\n",
    "    \"number_of_missing_values\": int(df.isna().sum().sum()),\n",
    "    \"number_of_instances_with_missing_values\": df[df.isna().any(axis=1)].shape[0],\n",
    "    \"variables\": {}\n",
    "}"
   ]
  },
  {
   "cell_type": "code",
   "execution_count": 45,
   "metadata": {},
   "outputs": [],
   "source": [
    "def parse_np_matrix_to_json(a):\n",
    "    output = {}\n",
    "    for i in range(len(a[0])):\n",
    "        output[str(a[0][i])] = int(a[1][i])\n",
    "    return output\n",
    "\n",
    "def summarize_categorical_variable(values, name, final_json):\n",
    "    final_json['variables'][name] = {\n",
    "        \"name\": name,\n",
    "        \"type\": \"categorical\",\n",
    "        \"number_of_unique_values\": len(np.unique(values.dropna())),\n",
    "        \"number_of_missing_values\": int(values.isna().sum()),\n",
    "        \"cat_frequencies\": parse_np_matrix_to_json(np.unique(values.dropna(), return_counts=True)),\n",
    "        \"num_minimum\": None,\n",
    "        \"num_1qu\": None,\n",
    "        \"num_median\": None,\n",
    "        \"num_mean\": None,\n",
    "        \"num_3qu\": None,\n",
    "        \"num_maximum\": None\n",
    "    }\n",
    "    \n",
    "def summarize_numerical_variable(values, name, final_json):\n",
    "    final_json['variables'][name] = {\n",
    "        \"name\": name,\n",
    "        \"type\": \"numerical\",\n",
    "        \"number_of_unique_values\": len(np.unique(values.dropna())),\n",
    "        \"number_of_missing_values\": int(values.isna().sum()),\n",
    "        \"cat_frequencies\": None,\n",
    "        \"num_minimum\": float(np.min(values.dropna())),\n",
    "        \"num_1qu\": float(np.percentile(values.dropna(),25)),\n",
    "        \"num_median\": float(np.percentile(values.dropna(),50)),\n",
    "        \"num_3q\": float(np.percentile(values.dropna(),75)),\n",
    "        \"num_maximum\": float(np.max(values.dropna()))\n",
    "    }"
   ]
  },
  {
   "cell_type": "markdown",
   "metadata": {},
   "source": [
    "# Podsumowanie zmiennych"
   ]
  },
  {
   "cell_type": "code",
   "execution_count": 47,
   "metadata": {},
   "outputs": [],
   "source": [
    "for i in range(len(names)):\n",
    "    if categorical[i]:\n",
    "        summarize_categorical_variable(df.loc[:,names[i]], names[i], final_json)\n",
    "    else:\n",
    "        summarize_numerical_variable(df.loc[:,names[i]], names[i], final_json)"
   ]
  },
  {
   "cell_type": "markdown",
   "metadata": {},
   "source": [
    "# zapis do pliku"
   ]
  },
  {
   "cell_type": "code",
   "execution_count": 51,
   "metadata": {},
   "outputs": [],
   "source": [
    "with open('dataset.json', 'w') as fp:\n",
    "    json.dump([final_json], fp, indent=4)"
   ]
  },
  {
   "cell_type": "code",
   "execution_count": null,
   "metadata": {},
   "outputs": [],
   "source": []
  }
 ],
 "metadata": {
  "kernelspec": {
   "display_name": "Python 3",
   "language": "python",
   "name": "python3"
  },
  "language_info": {
   "codemirror_mode": {
    "name": "ipython",
    "version": 3
   },
   "file_extension": ".py",
   "mimetype": "text/x-python",
   "name": "python",
   "nbconvert_exporter": "python",
   "pygments_lexer": "ipython3",
   "version": "3.6.4"
  }
 },
 "nbformat": 4,
 "nbformat_minor": 2
}
