{
 "cells": [
  {
   "cell_type": "code",
   "execution_count": 1,
   "metadata": {},
   "outputs": [],
   "source": [
    "import os\n",
    "import pandas as pd\n",
    "import numpy as np\n",
    "import json\n",
    "import time\n",
    "from sklearn.pipeline import Pipeline\n",
    "from sklearn.ensemble import GradientBoostingRegressor\n",
    "from sklearn.preprocessing import StandardScaler\n",
    "from sklearn.model_selection import train_test_split\n",
    "from sklearn.metrics import roc_auc_score, confusion_matrix, mean_squared_error\n",
    "import category_encoders as ce\n",
    "\n",
    "import matplotlib.pyplot as plt\n",
    "import warnings\n",
    "warnings.filterwarnings('ignore')\n",
    "plt.rcParams['figure.figsize'] = [25,17]"
   ]
  },
  {
   "cell_type": "code",
   "execution_count": 2,
   "metadata": {},
   "outputs": [],
   "source": [
    "df = pd.DataFrame()\n",
    "for dataset in os.listdir():\n",
    "    if os.path.isdir(dataset) and not dataset.startswith(\".\"):\n",
    "#         print(dataset)\n",
    "        for task in os.listdir(dataset):\n",
    "            if os.path.isdir(os.path.join(dataset, task)) and not task.startswith(\".\"):\n",
    "                with open(os.path.join(dataset, \"dataset.json\"), 'r') as f:\n",
    "                    dataset_info = json.load(f)\n",
    "                    dataset_info = dict([(key, dataset_info[0][key]) for key in \n",
    "                                         ['number_of_features',\n",
    "                                          'number_of_instances',\n",
    "                                          'number_of_missing_values',\n",
    "                                          'number_of_instances_with_missing_values']])\n",
    "#                     print(dataset_info)            \n",
    "#                     print(\"\\t\", task)\n",
    "\n",
    "                    # na razie wyrozniam tylko klasyfikacje\n",
    "                    if not task.startswith(\"classification\"):\n",
    "                        continue\n",
    "                    for model in os.listdir(os.path.join(dataset, task)):\n",
    "                        try:\n",
    "                            if os.path.isdir(os.path.join(dataset, task, model)):\n",
    "#                                 print(\"\\t\\t\", model)\n",
    "\n",
    "                                with open(os.path.join(dataset, task, model, \"audit.json\")) as fa:\n",
    "                                    audit_info = json.load(fa)\n",
    "                                    audit_info = dict([(metrics, audit_info[0]['performance'][metrics]) \n",
    "                                                       for metrics in ['acc', \n",
    "                                                                       'auc',\n",
    "                                                                       'specificity',\n",
    "                                                                       'recall', \n",
    "                                                                       'precision',\n",
    "                                                                       'f1']])\n",
    "#                                     print(audit_info)\n",
    "                                with open(os.path.join(dataset, task, model, \"model.json\")) as fm:\n",
    "                                    model_info = json.load(fm)\n",
    "                                    categorical_counter = 0\n",
    "                                    numerical_counter = 0\n",
    "                                    for key, value in model_info[0]['preprocessing'].items():\n",
    "                                        if value['type']=='categorical':\n",
    "                                            categorical_counter+=1\n",
    "                                        elif value['type']=='numerical':\n",
    "                                            numerical_counter+=1\n",
    "                                    model_info = dict([(key, model_info[0][key]) \n",
    "                                                      for key in ['id',\n",
    "                                                                  'library',\n",
    "                                                                  'model_name',\n",
    "                                                                  'added_by']])\n",
    "                                    \n",
    "                                    model_info['categorical_counter']=categorical_counter                                        \n",
    "                                    model_info['numerical_counter']=numerical_counter\n",
    "                                model = dataset_info\n",
    "                                model.update(audit_info)\n",
    "                                model.update(model_info)\n",
    "                                model = pd.DataFrame.from_dict(model, orient='index').T\n",
    "                                df = df.append(model, ignore_index=True)\n",
    "                        except :\n",
    "                            continue\n",
    "df.loc[:,'missing_values_fraction'] = df.number_of_instances_with_missing_values/df.number_of_instances                 "
   ]
  },
  {
   "cell_type": "code",
   "execution_count": 3,
   "metadata": {},
   "outputs": [
    {
     "data": {
      "text/html": [
       "<div>\n",
       "<style scoped>\n",
       "    .dataframe tbody tr th:only-of-type {\n",
       "        vertical-align: middle;\n",
       "    }\n",
       "\n",
       "    .dataframe tbody tr th {\n",
       "        vertical-align: top;\n",
       "    }\n",
       "\n",
       "    .dataframe thead th {\n",
       "        text-align: right;\n",
       "    }\n",
       "</style>\n",
       "<table border=\"1\" class=\"dataframe\">\n",
       "  <thead>\n",
       "    <tr style=\"text-align: right;\">\n",
       "      <th></th>\n",
       "      <th>number_of_features</th>\n",
       "      <th>number_of_instances</th>\n",
       "      <th>number_of_missing_values</th>\n",
       "      <th>number_of_instances_with_missing_values</th>\n",
       "      <th>acc</th>\n",
       "      <th>auc</th>\n",
       "      <th>specificity</th>\n",
       "      <th>recall</th>\n",
       "      <th>precision</th>\n",
       "      <th>f1</th>\n",
       "      <th>id</th>\n",
       "      <th>library</th>\n",
       "      <th>model_name</th>\n",
       "      <th>added_by</th>\n",
       "      <th>categorical_counter</th>\n",
       "      <th>numerical_counter</th>\n",
       "      <th>missing_values_fraction</th>\n",
       "    </tr>\n",
       "  </thead>\n",
       "  <tbody>\n",
       "    <tr>\n",
       "      <th>0</th>\n",
       "      <td>4</td>\n",
       "      <td>306</td>\n",
       "      <td>0</td>\n",
       "      <td>0</td>\n",
       "      <td>0.696298</td>\n",
       "      <td>0.697962</td>\n",
       "      <td>0.309341</td>\n",
       "      <td>0.838495</td>\n",
       "      <td>0.772065</td>\n",
       "      <td>0.792366</td>\n",
       "      <td>2e254a9fa09341ce4c29d4c9c83ca9d9</td>\n",
       "      <td>mlr</td>\n",
       "      <td>classif.randomForestSRC</td>\n",
       "      <td>mckraqs</td>\n",
       "      <td>1</td>\n",
       "      <td>3</td>\n",
       "      <td>0</td>\n",
       "    </tr>\n",
       "    <tr>\n",
       "      <th>1</th>\n",
       "      <td>4</td>\n",
       "      <td>306</td>\n",
       "      <td>0</td>\n",
       "      <td>0</td>\n",
       "      <td>0.826087</td>\n",
       "      <td>0.674342</td>\n",
       "      <td>0.921053</td>\n",
       "      <td>0.375</td>\n",
       "      <td>0.5</td>\n",
       "      <td>0.428571</td>\n",
       "      <td>2fe6b7bcfb66ce116dee141743eb2973</td>\n",
       "      <td>scikit</td>\n",
       "      <td>KNeighborsClassifier</td>\n",
       "      <td>mckraqs</td>\n",
       "      <td>1</td>\n",
       "      <td>2</td>\n",
       "      <td>0</td>\n",
       "    </tr>\n",
       "    <tr>\n",
       "      <th>2</th>\n",
       "      <td>4</td>\n",
       "      <td>306</td>\n",
       "      <td>0</td>\n",
       "      <td>0</td>\n",
       "      <td>0.826087</td>\n",
       "      <td>0.751645</td>\n",
       "      <td>0.947368</td>\n",
       "      <td>0.25</td>\n",
       "      <td>0.5</td>\n",
       "      <td>0.333333</td>\n",
       "      <td>4088aa9d0b579dc7dd6458022b57e7bb</td>\n",
       "      <td>scikit</td>\n",
       "      <td>KNeighborsClassifier</td>\n",
       "      <td>mckraqs</td>\n",
       "      <td>1</td>\n",
       "      <td>2</td>\n",
       "      <td>0</td>\n",
       "    </tr>\n",
       "    <tr>\n",
       "      <th>3</th>\n",
       "      <td>4</td>\n",
       "      <td>306</td>\n",
       "      <td>0</td>\n",
       "      <td>0</td>\n",
       "      <td>0.847826</td>\n",
       "      <td>0.689145</td>\n",
       "      <td>0.947368</td>\n",
       "      <td>0.375</td>\n",
       "      <td>0.6</td>\n",
       "      <td>0.461538</td>\n",
       "      <td>50ba59b8635b51e0543bc1498621b28d</td>\n",
       "      <td>scikit</td>\n",
       "      <td>KNeighborsClassifier</td>\n",
       "      <td>mckraqs</td>\n",
       "      <td>1</td>\n",
       "      <td>2</td>\n",
       "      <td>0</td>\n",
       "    </tr>\n",
       "    <tr>\n",
       "      <th>4</th>\n",
       "      <td>4</td>\n",
       "      <td>306</td>\n",
       "      <td>0</td>\n",
       "      <td>0</td>\n",
       "      <td>0.826087</td>\n",
       "      <td>0.717105</td>\n",
       "      <td>0.921053</td>\n",
       "      <td>0.375</td>\n",
       "      <td>0.5</td>\n",
       "      <td>0.428571</td>\n",
       "      <td>67aa3acc3a2de3438bcdcbe27d775343</td>\n",
       "      <td>scikit</td>\n",
       "      <td>KNeighborsClassifier</td>\n",
       "      <td>mckraqs</td>\n",
       "      <td>1</td>\n",
       "      <td>2</td>\n",
       "      <td>0</td>\n",
       "    </tr>\n",
       "  </tbody>\n",
       "</table>\n",
       "</div>"
      ],
      "text/plain": [
       "  number_of_features number_of_instances number_of_missing_values  \\\n",
       "0                  4                 306                        0   \n",
       "1                  4                 306                        0   \n",
       "2                  4                 306                        0   \n",
       "3                  4                 306                        0   \n",
       "4                  4                 306                        0   \n",
       "\n",
       "  number_of_instances_with_missing_values       acc       auc specificity  \\\n",
       "0                                       0  0.696298  0.697962    0.309341   \n",
       "1                                       0  0.826087  0.674342    0.921053   \n",
       "2                                       0  0.826087  0.751645    0.947368   \n",
       "3                                       0  0.847826  0.689145    0.947368   \n",
       "4                                       0  0.826087  0.717105    0.921053   \n",
       "\n",
       "     recall precision        f1                                id library  \\\n",
       "0  0.838495  0.772065  0.792366  2e254a9fa09341ce4c29d4c9c83ca9d9     mlr   \n",
       "1     0.375       0.5  0.428571  2fe6b7bcfb66ce116dee141743eb2973  scikit   \n",
       "2      0.25       0.5  0.333333  4088aa9d0b579dc7dd6458022b57e7bb  scikit   \n",
       "3     0.375       0.6  0.461538  50ba59b8635b51e0543bc1498621b28d  scikit   \n",
       "4     0.375       0.5  0.428571  67aa3acc3a2de3438bcdcbe27d775343  scikit   \n",
       "\n",
       "                model_name added_by categorical_counter numerical_counter  \\\n",
       "0  classif.randomForestSRC  mckraqs                   1                 3   \n",
       "1     KNeighborsClassifier  mckraqs                   1                 2   \n",
       "2     KNeighborsClassifier  mckraqs                   1                 2   \n",
       "3     KNeighborsClassifier  mckraqs                   1                 2   \n",
       "4     KNeighborsClassifier  mckraqs                   1                 2   \n",
       "\n",
       "  missing_values_fraction  \n",
       "0                       0  \n",
       "1                       0  \n",
       "2                       0  \n",
       "3                       0  \n",
       "4                       0  "
      ]
     },
     "execution_count": 3,
     "metadata": {},
     "output_type": "execute_result"
    }
   ],
   "source": [
    "df.head()"
   ]
  },
  {
   "cell_type": "code",
   "execution_count": 175,
   "metadata": {},
   "outputs": [],
   "source": [
    "X, y_acc, y_auc, y_precision, y_recall, y_specificity, y_f1 = df.drop(['acc',\n",
    "                                                                       'auc',\n",
    "                                                                       'precision',\n",
    "                                                                       'recall',\n",
    "                                                                       'specificity',\n",
    "                                                                       'f1',\n",
    "                                                                       'id',\n",
    "                                                                       'added_by'], axis=1), df.acc, df.auc, df.precision, df.recall, df.specificity, df.f1"
   ]
  },
  {
   "cell_type": "markdown",
   "metadata": {},
   "source": [
    "Wnioski:\n",
    "* added_by dodaje szum"
   ]
  },
  {
   "cell_type": "markdown",
   "metadata": {},
   "source": [
    "# 6 modeli - po jednym dla każdego rodzaju metryki"
   ]
  },
  {
   "cell_type": "markdown",
   "metadata": {},
   "source": [
    "Pipeline dla danych wejściowych"
   ]
  },
  {
   "cell_type": "code",
   "execution_count": 176,
   "metadata": {},
   "outputs": [],
   "source": [
    "steps = [('binary_encoder', ce.BinaryEncoder(cols=['model_name'])),\n",
    "         ('ordinal_encoder', ce.OrdinalEncoder(cols=['library'])),\n",
    "         ('rfr', GradientBoostingRegressor(random_state=42))]\n",
    "model_pipeline = Pipeline(steps)"
   ]
  },
  {
   "cell_type": "markdown",
   "metadata": {},
   "source": [
    "## Accuracy"
   ]
  },
  {
   "cell_type": "code",
   "execution_count": 115,
   "metadata": {},
   "outputs": [],
   "source": [
    "# X.head(50)"
   ]
  },
  {
   "cell_type": "code",
   "execution_count": 177,
   "metadata": {},
   "outputs": [
    {
     "data": {
      "text/plain": [
       "1.2"
      ]
     },
     "execution_count": 177,
     "metadata": {},
     "output_type": "execute_result"
    }
   ],
   "source": [
    "X_train, X_test, y_acc_train, y_acc_test = train_test_split(X[np.logical_not(y_acc.isna())], \n",
    "                                                            y_acc[np.logical_not(y_acc.isna())], \n",
    "                                                            test_size=0.2, \n",
    "                                                            random_state=42)\n",
    "X_train = X_train.reset_index(drop=True)\n",
    "X_test = X_test.reset_index(drop=True)\n",
    "y_acc_train = y_acc_train.reset_index(drop=True)\n",
    "y_acc_test = y_acc_test.reset_index(drop=True)\n",
    "\n",
    "model_pipeline.fit(X_train, y_acc_train)\n",
    "y_acc_pred = model_pipeline.predict(X_test)\n",
    "results = pd.DataFrame({\n",
    "    \"Predykcje\": y_acc_pred,\n",
    "    \"Wartości oczekiwane\": y_acc_test\n",
    "})\n",
    "\n",
    "np.round(mean_squared_error(results[\"Predykcje\"], results[\"Wartości oczekiwane\"]) * 100, 2)"
   ]
  },
  {
   "cell_type": "code",
   "execution_count": 178,
   "metadata": {},
   "outputs": [
    {
     "data": {
      "image/png": "[encoded data removed]",
      "text/plain": [
       "<Figure size 1800x1224 with 1 Axes>"
      ]
     },
     "metadata": {
      "needs_background": "light"
     },
     "output_type": "display_data"
    }
   ],
   "source": [
    "importances = pd.Series(dict(zip(X.columns, model_pipeline.steps[2][1].feature_importances_)))\n",
    "importances.sort_values().plot(kind='barh', color='royalblue')\n",
    "plt.yticks(fontsize=25)\n",
    "plt.show()"
   ]
  },
  {
   "cell_type": "markdown",
   "metadata": {},
   "source": [
    "## AUC"
   ]
  },
  {
   "cell_type": "code",
   "execution_count": 179,
   "metadata": {},
   "outputs": [
    {
     "data": {
      "text/plain": [
       "1.04"
      ]
     },
     "execution_count": 179,
     "metadata": {},
     "output_type": "execute_result"
    }
   ],
   "source": [
    "model_pipeline = Pipeline(steps)\n",
    "X_train, X_test, y_auc_train, y_auc_test = train_test_split(X[np.logical_not(y_auc.isna())], y_auc[np.logical_not(y_auc.isna())], test_size=0.2, random_state=42)\n",
    "X_train = X_train.reset_index(drop=True)\n",
    "X_test = X_test.reset_index(drop=True)\n",
    "y_auc_train = y_auc_train.reset_index(drop=True)\n",
    "y_auc_test = y_auc_test.reset_index(drop=True)\n",
    "model_pipeline.fit(X_train, y_auc_train)\n",
    "y_auc_pred = model_pipeline.predict(X_test)\n",
    "# np.c_[y_auc_pred,y_auc_test]\n",
    "\n",
    "results = pd.DataFrame({\n",
    "    \"Predykcje\": y_auc_pred,\n",
    "    \"Wartości oczekiwane\": y_auc_test\n",
    "})\n",
    "\n",
    "np.round(mean_squared_error(results[\"Predykcje\"], results[\"Wartości oczekiwane\"]) * 100, 2)"
   ]
  },
  {
   "cell_type": "markdown",
   "metadata": {},
   "source": [
    "## Precision"
   ]
  },
  {
   "cell_type": "code",
   "execution_count": 180,
   "metadata": {},
   "outputs": [
    {
     "data": {
      "text/plain": [
       "1.64"
      ]
     },
     "execution_count": 180,
     "metadata": {},
     "output_type": "execute_result"
    }
   ],
   "source": [
    "model_pipeline = Pipeline(steps)\n",
    "X_train, X_test, y_precision_train, y_precision_test = train_test_split(X[np.logical_not(y_precision.isna())], y_precision[np.logical_not(y_precision.isna())], test_size=0.2, random_state=42)\n",
    "X_train = X_train.reset_index(drop=True)\n",
    "X_test = X_test.reset_index(drop=True)\n",
    "y_precision_train = y_precision_train.reset_index(drop=True)\n",
    "y_precision_test = y_precision_test.reset_index(drop=True)\n",
    "model_pipeline.fit(X_train, y_precision_train)\n",
    "y_precision_pred = model_pipeline.predict(X_test)\n",
    "# np.c_[y_precision_pred, y_precision_test]\n",
    "\n",
    "results = pd.DataFrame({\n",
    "    \"Predykcje\": y_precision_pred,\n",
    "    \"Wartości oczekiwane\": y_precision_test\n",
    "})\n",
    "\n",
    "np.round(mean_squared_error(results[\"Predykcje\"], results[\"Wartości oczekiwane\"]) * 100, 2)"
   ]
  },
  {
   "cell_type": "markdown",
   "metadata": {},
   "source": [
    "## Recall"
   ]
  },
  {
   "cell_type": "code",
   "execution_count": 158,
   "metadata": {},
   "outputs": [
    {
     "data": {
      "text/plain": [
       "array([[0.9896122226842753, 0.9918],\n",
       "       [0.33793237911196355, 0.375],\n",
       "       [0.8431714447433296, 0.8756],\n",
       "       [0.949230251474782, 0.964],\n",
       "       [0.6223004289733233, 0.6125],\n",
       "       [0.6356129320732352, 0.6465],\n",
       "       [0.9712747794131301, 0.9715],\n",
       "       [0.9416109269080974, 0.94],\n",
       "       [0.9186466627929152, 0.9256],\n",
       "       [0.9903058648350322, 0.9908],\n",
       "       [0.9798802476569581, 0.998],\n",
       "       [0.9186466627929152, 0.9368],\n",
       "       [0.9416109269080974, 0.94],\n",
       "       [0.5882610217540772, 0.8620937],\n",
       "       [0.9031673651146623, 0.9141],\n",
       "       [0.9031673651146623, 0.8983],\n",
       "       [0.9604149490244673, 0.9726],\n",
       "       [0.8640338331853915, 0.8433],\n",
       "       [0.34911448227969544, 0],\n",
       "       [0.954420854623777, 0.9629],\n",
       "       [0.6223004289733233, 0.6168],\n",
       "       [0.5861916450971794, 0.8384948],\n",
       "       [0.6674546374363827, 0.7637],\n",
       "       [0.9896122226842753, 0.9918],\n",
       "       [0.9798802476569581, 0.9663],\n",
       "       [0.9518094807806393, 0.9563],\n",
       "       [0.34911448227969544, 0.58],\n",
       "       [0.975499953521238, 0.9808],\n",
       "       [0.6403384371404015, 0.6432],\n",
       "       [0.7947736842123851, 0.5736],\n",
       "       [0.9029996431043573, 0.893],\n",
       "       [0.33793237911196355, 0.375],\n",
       "       [0.9712747794131301, 0.9715],\n",
       "       [0.5917842066193095, 0.6706],\n",
       "       [0.8552634596410658, 0.8618],\n",
       "       [0.983217682387718, 0.9604],\n",
       "       [0.8389858535001606, 0.8312],\n",
       "       [0.739893019895661, 0.7415],\n",
       "       [0.9578543672312517, 0.9619],\n",
       "       [0.34911448227969544, 0]], dtype=object)"
      ]
     },
     "execution_count": 158,
     "metadata": {},
     "output_type": "execute_result"
    }
   ],
   "source": [
    "model_pipeline = Pipeline(steps)\n",
    "X_train, X_test, y_recall_train, y_recall_test = train_test_split(X[np.logical_not(y_recall.isna())], y_recall[np.logical_not(y_recall.isna())], test_size=0.2, random_state=42)\n",
    "X_train = X_train.reset_index(drop=True)\n",
    "X_test = X_test.reset_index(drop=True)\n",
    "y_recall_train = y_recall_train.reset_index(drop=True)\n",
    "y_recall_test = y_recall_test.reset_index(drop=True)\n",
    "model_pipeline.fit(X_train, y_recall_train)\n",
    "y_recall_pred = model_pipeline.predict(X_test)\n",
    "np.c_[y_recall_pred,y_recall_test]"
   ]
  },
  {
   "cell_type": "markdown",
   "metadata": {},
   "source": [
    "## Specificity"
   ]
  },
  {
   "cell_type": "code",
   "execution_count": 159,
   "metadata": {},
   "outputs": [
    {
     "data": {
      "text/plain": [
       "array([[0.7181440675545677, 0.7321],\n",
       "       [0.9348734096307191, 0.9210526315789473],\n",
       "       [0.6812015793543403, 0.5168],\n",
       "       [0.49289147602880856, 0.4871],\n",
       "       [0.685454996498983, 0.6916],\n",
       "       [0.7527143247285796, 0.7899],\n",
       "       [0.3364063680151815, 0.3661],\n",
       "       [0.7271501871559766, 0.7329],\n",
       "       [0.33187074180799025, 0.3552],\n",
       "       [0.9904463213924354, 0.9949],\n",
       "       [0.3159290665898481, 0.0713],\n",
       "       [0.33187074180799025, 0.3067],\n",
       "       [0.7271501871559766, 0.7329],\n",
       "       [0.7341373121607416, 0.9192899],\n",
       "       [0.38682800771366277, 0.3868],\n",
       "       [0.38682800771366277, 0.3782],\n",
       "       [0.3952824795324349, 0.397],\n",
       "       [0.6701453971132011, 0.5286],\n",
       "       [0.9346381096437073, 1],\n",
       "       [0.328470048755269, 0.3681],\n",
       "       [0.685454996498983, 0.6916],\n",
       "       [0.9391747013528361, 0.3093407],\n",
       "       [0.6234028126389827, 0.8613],\n",
       "       [0.7181440675545677, 0.7349],\n",
       "       [0.3159290665898481, 0.4649],\n",
       "       [0.35249304345999866, 0.4767],\n",
       "       [0.9346381096437073, 0.9039],\n",
       "       [0.3103522023441314, 0.2791],\n",
       "       [0.7294422391543011, 0.6879],\n",
       "       [0.6133415659565541, 0.5934],\n",
       "       [0.7815439610132899, 0.7867],\n",
       "       [0.9348734096307191, 0.9210526315789473],\n",
       "       [0.3364063680151815, 0.3661],\n",
       "       [0.8463432060642092, 0.7839],\n",
       "       [0.6651499314416092, 0.6905],\n",
       "       [0.39772727807950986, 0.217],\n",
       "       [0.846641546381712, 0.8724],\n",
       "       [0.8978622523613524, 0.9041],\n",
       "       [0.5999868525011489, 0.5907],\n",
       "       [0.9346381096437073, 1]], dtype=object)"
      ]
     },
     "execution_count": 159,
     "metadata": {},
     "output_type": "execute_result"
    }
   ],
   "source": [
    "model_pipeline = Pipeline(steps)\n",
    "X_train, X_test, y_specificity_train, y_specificity_test = train_test_split(X[np.logical_not(y_specificity.isna())], y_specificity[np.logical_not(y_specificity.isna())], test_size=0.2, random_state=42)\n",
    "X_train = X_train.reset_index(drop=True)\n",
    "X_test = X_test.reset_index(drop=True)\n",
    "y_specificity_train = y_specificity_train.reset_index(drop=True)\n",
    "y_specificity_test = y_specificity_test.reset_index(drop=True)\n",
    "model_pipeline.fit(X_train, y_specificity_train)\n",
    "y_specificity_pred = model_pipeline.predict(X_test)\n",
    "np.c_[y_specificity_pred,y_specificity_test]"
   ]
  },
  {
   "cell_type": "markdown",
   "metadata": {},
   "source": [
    "## f1 score"
   ]
  },
  {
   "cell_type": "code",
   "execution_count": 160,
   "metadata": {},
   "outputs": [
    {
     "data": {
      "text/plain": [
       "array([[0.9703852499223938, 0.9744],\n",
       "       [0.4062394978493434, 0.42857142857142855],\n",
       "       [0.8180417793289221, 0.8197],\n",
       "       [0.9299863819637169, 0.9489],\n",
       "       [0.6342976222077256, 0.6243],\n",
       "       [0.6624913783746715, 0.6874],\n",
       "       [0.9425819938924491, 0.9453],\n",
       "       [0.9176092241765578, 0.916],\n",
       "       [0.8355632024249768, 0.8407],\n",
       "       [0.992013358672976, 0.9935],\n",
       "       [0.9482486601215228, 0.9411],\n",
       "       [0.8355632024249768, 0.8385],\n",
       "       [0.9176092241765578, 0.916],\n",
       "       [0.6886384093215977, 0.8745757],\n",
       "       [0.8383677399457539, 0.8394],\n",
       "       [0.8383677399457539, 0.8299],\n",
       "       [0.9427721457443211, 0.9478],\n",
       "       [0.8059890260738544, 0.7593],\n",
       "       [0.4048308314427201, 0],\n",
       "       [0.9309350475657102, 0.941],\n",
       "       [0.6342976222077256, 0.627],\n",
       "       [0.5434850183485054, 0.7923664],\n",
       "       [0.6681503060745899, 0.778],\n",
       "       [0.9703852499223938, 0.9746],\n",
       "       [0.9482486601215228, 0.9487],\n",
       "       [0.9362382174344903, 0.9442],\n",
       "       [0.4048308314427201, 0.6783],\n",
       "       [0.9357756660646906, 0.9448],\n",
       "       [0.6527237634214618, 0.6442],\n",
       "       [0.7907531031558022, 0.5771],\n",
       "       [0.8823284013877085, 0.8777],\n",
       "       [0.4062394978493434, 0.42857142857142855],\n",
       "       [0.9425819938924491, 0.9453],\n",
       "       [0.6402569499729215, 0.6838],\n",
       "       [0.798174660624047, 0.8131],\n",
       "       [0.9557655154481655, 0.9194],\n",
       "       [0.8436768541857651, 0.8454],\n",
       "       [0.7776645191972187, 0.7829],\n",
       "       [0.9052309993552149, 0.9015],\n",
       "       [0.4048308314427201, 0]], dtype=object)"
      ]
     },
     "execution_count": 160,
     "metadata": {},
     "output_type": "execute_result"
    }
   ],
   "source": [
    "model_pipeline = Pipeline(steps)\n",
    "X_train, X_test, y_f1_train, y_f1_test = train_test_split(X[np.logical_not(y_f1.isna())], y_f1[np.logical_not(y_f1.isna())], test_size=0.2, random_state=42)\n",
    "X_train = X_train.reset_index(drop=True)\n",
    "X_test = X_test.reset_index(drop=True)\n",
    "y_f1_train = y_f1_train.reset_index(drop=True)\n",
    "y_f1_test = y_f1_test.reset_index(drop=True)\n",
    "model_pipeline.fit(X_train, y_f1_train)\n",
    "y_f1_pred = model_pipeline.predict(X_test)\n",
    "np.c_[y_f1_pred,y_f1_test]"
   ]
  },
  {
   "cell_type": "markdown",
   "metadata": {},
   "source": [
    "# Predicting f1 score as harmonic mean of recall and precision"
   ]
  },
  {
   "cell_type": "code",
   "execution_count": 161,
   "metadata": {},
   "outputs": [
    {
     "data": {
      "text/plain": [
       "array([[0.9723646432034492, 0.9703852499223938, 0.9744],\n",
       "       [0.4113235886653059, 0.4062394978493434, 0.42857142857142855],\n",
       "       [0.8266148351588589, 0.8180417793289221, 0.8197],\n",
       "       [0.9228820290876748, 0.9299863819637169, 0.9489],\n",
       "       [0.6379948374649459, 0.6342976222077256, 0.6243],\n",
       "       [0.663089012344523, 0.6624913783746715, 0.6874],\n",
       "       [0.9414762507184032, 0.9425819938924491, 0.9453],\n",
       "       [0.9141415313810637, 0.9176092241765578, 0.916],\n",
       "       [0.8374728217937387, 0.8355632024249768, 0.8407],\n",
       "       [0.9907936474006983, 0.992013358672976, 0.9935],\n",
       "       [0.9525603363211822, 0.9482486601215228, 0.9411],\n",
       "       [0.8374728217937387, 0.8355632024249768, 0.8385],\n",
       "       [0.9141415313810637, 0.9176092241765578, 0.916],\n",
       "       [0.6636161966236415, 0.6886384093215977, 0.8745757],\n",
       "       [0.8339905501358934, 0.8383677399457539, 0.8394],\n",
       "       [0.8339905501358934, 0.8383677399457539, 0.8299],\n",
       "       [0.9359894230421265, 0.9427721457443211, 0.9478],\n",
       "       [0.8334246186487955, 0.8059890260738544, 0.7593],\n",
       "       [0.5017238338695726, 0.4048308314427201, 0],\n",
       "       [0.9298868164212243, 0.9309350475657102, 0.941],\n",
       "       [0.6379948374649459, 0.6342976222077256, 0.627],\n",
       "       [0.6191143365811332, 0.5434850183485054, 0.7923664],\n",
       "       [0.6801311972387344, 0.6681503060745899, 0.778],\n",
       "       [0.9723646432034492, 0.9703852499223938, 0.9746],\n",
       "       [0.9525603363211822, 0.9482486601215228, 0.9487],\n",
       "       [0.9260302539700349, 0.9362382174344903, 0.9442],\n",
       "       [0.5017238338695726, 0.4048308314427201, 0.6783],\n",
       "       [0.9402353758370634, 0.9357756660646906, 0.9448],\n",
       "       [0.6546815943299931, 0.6527237634214618, 0.6442],\n",
       "       [0.7621110817597196, 0.7907531031558022, 0.5771],\n",
       "       [0.8847624582404375, 0.8823284013877085, 0.8777],\n",
       "       [0.4113235886653059, 0.4062394978493434, 0.42857142857142855],\n",
       "       [0.9414762507184032, 0.9425819938924491, 0.9453],\n",
       "       [0.6670882586521584, 0.6402569499729215, 0.6838],\n",
       "       [0.8237041904867811, 0.798174660624047, 0.8131],\n",
       "       [0.9457186209502538, 0.9557655154481655, 0.9194],\n",
       "       [0.8320166583385704, 0.8436768541857651, 0.8454],\n",
       "       [0.7783330277349666, 0.7776645191972187, 0.7829],\n",
       "       [0.9066105726121894, 0.9052309993552149, 0.9015],\n",
       "       [0.5017238338695726, 0.4048308314427201, 0]], dtype=object)"
      ]
     },
     "execution_count": 161,
     "metadata": {},
     "output_type": "execute_result"
    }
   ],
   "source": [
    "np.c_[2/(1/y_precision_pred+1/y_recall_pred), y_f1_pred, y_f1_test]"
   ]
  }
 ],
 "metadata": {
  "kernelspec": {
   "display_name": "TensorFlow-GPU",
   "language": "python",
   "name": "tfgpu"
  },
  "language_info": {
   "codemirror_mode": {
    "name": "ipython",
    "version": 3
   },
   "file_extension": ".py",
   "mimetype": "text/x-python",
   "name": "python",
   "nbconvert_exporter": "python",
   "pygments_lexer": "ipython3",
   "version": "3.6.8"
  }
 },
 "nbformat": 4,
 "nbformat_minor": 2
}
